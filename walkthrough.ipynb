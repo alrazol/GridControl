{
 "cells": [
  {
   "cell_type": "code",
   "execution_count": null,
   "metadata": {},
   "outputs": [],
   "source": [
    "import plotly.express as px\n",
    "import pandas as pd\n",
    "import json\n",
    "from pathlib import Path\n",
    "from datetime import datetime\n",
    "from src.core.domain.use_cases.import_network_from_json import ETLPipeline\n",
    "from src.core.infrastructure.settings import Settings\n",
    "from src.core.infrastructure.adapters.sqlite_network_repository import (\n",
    "    SQLiteNetworkRepository,\n",
    ")\n",
    "from src.core.infrastructure.adapters.network_builder import DefaultNetworkBuilder\n",
    "from src.core.domain.use_cases.compute_simulated_network import SimulationPipeline\n",
    "from src.core.infrastructure.services import PyPowsyblCompatService\n",
    "from src.core.infrastructure.adapters.pypowsybl_loadflow_solver import PyPowSyblLoadFlowSolver\n",
    "from src.core.constants import LoadFlowType\n",
    "from src.core.utils import parse_datetime_to_str\n",
    "from src.core.constants import DEFAULT_TIMEZONE\n",
    "from src.rl.artifacts.experiment_record import ExperimentRecord\n",
    "import src.rl.action as action_module\n",
    "from src.rl.action.enums import DiscreteActionTypes\n",
    "from src.core.constants import ElementStatus\n",
    "\n",
    "PATH_TO_LAYOUT = \"configs/toy_grid_layout.json\"\n",
    "SIMULATION_CONFIG_PATH = Path(\"configs/toy_grid_simulation.yaml\")\n",
    "GRID_ID = \"toy_grid_layout\"\n",
    "SHOULD_CREATE_TABLE = True\n",
    "settings = Settings()\n",
    "network_builder = DefaultNetworkBuilder()"
   ]
  },
  {
   "cell_type": "code",
   "execution_count": null,
   "metadata": {},
   "outputs": [],
   "source": [
    "file_path = Path(PATH_TO_LAYOUT)"
   ]
  },
  {
   "cell_type": "code",
   "execution_count": null,
   "metadata": {},
   "outputs": [],
   "source": [
    "# Ingest the data\n",
    "\n",
    "network_repository = SQLiteNetworkRepository(\n",
    "    should_create_tables=SHOULD_CREATE_TABLE,\n",
    "    db_url=settings.DB_URL,\n",
    ")\n",
    "\n",
    "etl_pipeline = ETLPipeline(\n",
    "    network_repository=network_repository,\n",
    "    network_builder=network_builder,\n",
    ")\n",
    "etl_pipeline.run(file_path=PATH_TO_LAYOUT)"
   ]
  },
  {
   "cell_type": "code",
   "execution_count": null,
   "metadata": {},
   "outputs": [],
   "source": [
    "# Visualise the ingested data\n",
    "\n",
    "net = network_repository.get(network_id=GRID_ID)"
   ]
  },
  {
   "cell_type": "code",
   "execution_count": null,
   "metadata": {},
   "outputs": [],
   "source": [
    "net.elements"
   ]
  },
  {
   "cell_type": "code",
   "execution_count": null,
   "metadata": {},
   "outputs": [],
   "source": [
    "# Simulate a time series of the network\n",
    "\n",
    "START = datetime(2025, 1, 1, tzinfo=DEFAULT_TIMEZONE)\n",
    "END = datetime(2025, 2, 1, tzinfo=DEFAULT_TIMEZONE)\n",
    "\n",
    "simulation_pipeline = SimulationPipeline(\n",
    "    config_path=SIMULATION_CONFIG_PATH,\n",
    "    network_repository=network_repository,\n",
    "    network_builder=network_builder,\n",
    ")\n",
    "\n",
    "simulation_pipeline.apply_pipeline(start=parse_datetime_to_str(START), end=parse_datetime_to_str(END), time_step=1)"
   ]
  },
  {
   "cell_type": "code",
   "execution_count": null,
   "metadata": {},
   "outputs": [],
   "source": [
    "net_simulated = network_repository.get(network_id=f\"{GRID_ID}_simulated\")"
   ]
  },
  {
   "cell_type": "code",
   "execution_count": null,
   "metadata": {},
   "outputs": [],
   "source": [
    "df = pd.concat(\n",
    "    [\n",
    "        net_simulated.to_dataframe(element_id=\"gen1\")[[\"dynamic.Ptarget\"]],\n",
    "        net_simulated.to_dataframe(element_id=\"gen1\")[[\"static.Pmax\"]],\n",
    "        net_simulated.to_dataframe(element_id=\"load1\")[[\"dynamic.Pd\"]],\n",
    "    ],\n",
    "    axis=1,\n",
    ")\n",
    "px.line(df)"
   ]
  },
  {
   "cell_type": "code",
   "execution_count": null,
   "metadata": {},
   "outputs": [],
   "source": [
    "# Solve the network\n",
    "\n",
    "solver = PyPowSyblLoadFlowSolver(\n",
    "    to_pypowsybl_converter_service=PyPowsyblCompatService(),\n",
    "    network_builder=network_builder,\n",
    ")\n",
    "\n",
    "net_solved = solver.solve(network=net_simulated, loadflow_type=LoadFlowType.DC)"
   ]
  },
  {
   "cell_type": "code",
   "execution_count": null,
   "metadata": {},
   "outputs": [],
   "source": [
    "ELEMENT_ID_1 = \"gen1\"\n",
    "ELEMENT_ID_2 = \"load1\"\n",
    "line_1_id = \"line1\"\n",
    "\n",
    "df_solved= pd.concat(\n",
    "    [\n",
    "        net_solved.to_dataframe(element_id=ELEMENT_ID_1)[[\"solved.p\"]].rename(columns={\"solved.p\": f\"solved.p_{ELEMENT_ID_1}\"}),\n",
    "        net_solved.to_dataframe(element_id=\"load1\")[[\"solved.p\"]].rename(columns={\"solved.p\": f\"solved.p_{ELEMENT_ID_2}\"}),\n",
    "        net_solved.to_dataframe(element_id=line_1_id)[[\"solved.p1\"]]\n",
    "    ],\n",
    "    axis=1,\n",
    ")\n",
    "px.line(df_solved)"
   ]
  },
  {
   "cell_type": "code",
   "execution_count": null,
   "metadata": {},
   "outputs": [],
   "source": [
    "# Visualise an RL experiment layout\n",
    "\n",
    "ROLLOUT_PATH = \"src/rl/data/experiments/DQN-agent-exp/4716cdfe142645d99ade9b0207670e6f/artifacts/DQN-agent-exp_rollout_episode_250.json\"\n",
    "\n",
    "with open(Path(ROLLOUT_PATH), \"r\") as f:\n",
    "    rl_experiment_layout = json.load(f)"
   ]
  },
  {
   "cell_type": "code",
   "execution_count": null,
   "metadata": {},
   "outputs": [],
   "source": [
    "records = [ExperimentRecord(**i) for i in rl_experiment_layout[\"records\"]]"
   ]
  },
  {
   "cell_type": "code",
   "execution_count": null,
   "metadata": {},
   "outputs": [],
   "source": [
    "px.line(pd.DataFrame([j\n",
    " for record in records\n",
    " for j in record.next_observation[\"network_snapshot_observations\"][-1][\"observations\"]\n",
    " if j[\"id\"] == \"line2\"])[[\"timestamp\", \"p1\"]].set_index(\"timestamp\"))"
   ]
  },
  {
   "cell_type": "code",
   "execution_count": null,
   "metadata": {},
   "outputs": [],
   "source": [
    "def assign_status(status: ElementStatus) -> int:\n",
    "    if status == ElementStatus.ON:\n",
    "        return 0\n",
    "    elif status == ElementStatus.OFF:\n",
    "        return 1\n",
    "    elif status == ElementStatus.OUTAGE:\n",
    "        return 2\n",
    "    elif status == ElementStatus.MAINTENANCE:\n",
    "        return 3\n",
    "\n",
    "df_status = pd.DataFrame([j\n",
    " for record in records\n",
    " for j in record.next_observation[\"network_snapshot_observations\"][-1][\"observations\"]\n",
    " if j[\"id\"] == \"line1\"])[[\"timestamp\", \"status\"]].set_index(\"timestamp\")\n",
    "\n",
    "df_status[\"status_code\"] = df_status[\"status\"].apply(assign_status)\n",
    "\n",
    "px.line(df_status[[\"status_code\"]])"
   ]
  },
  {
   "cell_type": "code",
   "execution_count": null,
   "metadata": {},
   "outputs": [],
   "source": [
    "px.line(pd.DataFrame([i.reward for i in records]))"
   ]
  },
  {
   "cell_type": "code",
   "execution_count": null,
   "metadata": {},
   "outputs": [],
   "source": [
    "def assign_action(action: dict, action_type: DiscreteActionTypes) -> int:\n",
    "    try:\n",
    "        action_class = getattr(action_module, action_type)\n",
    "        if action_type == \"DoNothingAction\":\n",
    "            action = {}\n",
    "        if action_type == \"SwitchAction\":\n",
    "            action = {\"element_id\": action[\"element_id\"]}\n",
    "        if action_type == \"StartMaintenanceAction\":\n",
    "            action = {\"element_id\": action[\"element_id\"]}\n",
    "        action = action_class(**action)\n",
    "    except ValueError as e:\n",
    "        raise ValueError(f\"Unknown action type: {action_type}: {e}\")\n",
    "    if isinstance(action, action_module.DoNothingAction):\n",
    "        return 0\n",
    "    elif isinstance(action, action_module.SwitchAction) and action.element_id == \"line1\":\n",
    "        return 1\n",
    "    elif isinstance(action, action_module.SwitchAction) and action.element_id == \"line2\":\n",
    "        return 2\n",
    "    elif isinstance(action, action_module.StartMaintenanceAction) and action.element_id == \"line1\":\n",
    "        return 3\n",
    "    elif isinstance(action, action_module.StartMaintenanceAction) and action.element_id == \"line2\":\n",
    "        return 4"
   ]
  },
  {
   "cell_type": "code",
   "execution_count": null,
   "metadata": {},
   "outputs": [],
   "source": [
    "px.line(pd.DataFrame([assign_action(i.action, action_type=i.action[\"action_type\"]) for i in records]))"
   ]
  }
 ],
 "metadata": {
  "kernelspec": {
   "display_name": ".venv",
   "language": "python",
   "name": "python3"
  },
  "language_info": {
   "codemirror_mode": {
    "name": "ipython",
    "version": 3
   },
   "file_extension": ".py",
   "mimetype": "text/x-python",
   "name": "python",
   "nbconvert_exporter": "python",
   "pygments_lexer": "ipython3",
   "version": "3.12.5"
  }
 },
 "nbformat": 4,
 "nbformat_minor": 2
}
